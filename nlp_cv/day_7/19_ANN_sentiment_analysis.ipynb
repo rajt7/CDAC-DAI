{
 "cells": [
  {
   "cell_type": "code",
   "execution_count": 46,
   "metadata": {},
   "outputs": [],
   "source": [
    "import re\n",
    "import  string\n",
    "import nltk\n",
    "import numpy as np\n",
    "\n",
    "from os import listdir\n",
    "from nltk.corpus import stopwords\n",
    "from keras.preprocessing.text import Tokenizer\n",
    "from keras.utils import plot_model"
   ]
  },
  {
   "cell_type": "code",
   "execution_count": 47,
   "metadata": {},
   "outputs": [
    {
     "name": "stderr",
     "output_type": "stream",
     "text": [
      "[nltk_data] Downloading package stopwords to /home/dai/nltk_data...\n",
      "[nltk_data]   Package stopwords is already up-to-date!\n"
     ]
    },
    {
     "data": {
      "text/plain": [
       "True"
      ]
     },
     "execution_count": 47,
     "metadata": {},
     "output_type": "execute_result"
    }
   ],
   "source": [
    "nltk.download('stopwords')"
   ]
  },
  {
   "cell_type": "code",
   "execution_count": 48,
   "metadata": {},
   "outputs": [
    {
     "data": {
      "text/plain": [
       "'plot : two teen couples go to a church party , drink and then drive . \\nthey get into an accident . \\none of the guys dies , but his girlfriend continues to see him in her life , and has nightmares . \\nwhat\\'s the deal ? \\nwatch the movie and \" sorta \" find out . . . \\ncritique : a mind-fuck movie for the teen generation that touches on a very cool idea , but presents it in a very bad package . \\nwhich is what makes this review an even harder one to write , since i generally applaud films which attempt to break the mold , mess with your head and such ( lost highway & memento ) , but there are good and bad ways of making all types of films , and these folks just didn\\'t snag this one correctly . \\nthey seem to have taken this pretty neat concept , but executed it terribly . \\nso what are the problems with the movie ? \\nwell , its main problem is that it\\'s simply too jumbled . \\nit starts off \" normal \" but then downshifts into this \" fantasy \" world in which you , as an audience member , have no idea what\\'s going on . \\nthere are dreams , there are characters coming back from the dead , there are others who look like the dead , there are strange apparitions , there are disappearances , there are a looooot of chase scenes , there are tons of weird things that happen , and most of it is simply not explained . \\nnow i personally don\\'t mind trying to unravel a film every now and then , but when all it does is give me the same clue over and over again , i get kind of fed up after a while , which is this film\\'s biggest problem . \\nit\\'s obviously got this big secret to hide , but it seems to want to hide it completely until its final five minutes . \\nand do they make things entertaining , thrilling or even engaging , in the meantime ? \\nnot really . \\nthe sad part is that the arrow and i both dig on flicks like this , so we actually figured most of it out by the half-way point , so all of the strangeness after that did start to make a little bit of sense , but it still didn\\'t the make the film all that more entertaining . \\ni guess the bottom line with movies like this is that you should always make sure that the audience is \" into it \" even before they are given the secret password to enter your world of understanding . \\ni mean , showing melissa sagemiller running away from visions for about 20 minutes throughout the movie is just plain lazy ! ! \\nokay , we get it . . . there \\nare people chasing her and we don\\'t know who they are . \\ndo we really need to see it over and over again ? \\nhow about giving us different scenes offering further insight into all of the strangeness going down in the movie ? \\napparently , the studio took this film away from its director and chopped it up themselves , and it shows . \\nthere might\\'ve been a pretty decent teen mind-fuck movie in here somewhere , but i guess \" the suits \" decided that turning it into a music video with little edge , would make more sense . \\nthe actors are pretty good for the most part , although wes bentley just seemed to be playing the exact same character that he did in american beauty , only in a new neighborhood . \\nbut my biggest kudos go out to sagemiller , who holds her own throughout the entire film , and actually has you feeling her character\\'s unraveling . \\noverall , the film doesn\\'t stick because it doesn\\'t entertain , it\\'s confusing , it rarely excites and it feels pretty redundant for most of its runtime , despite a pretty cool ending and explanation to all of the craziness that came before it . \\noh , and by the way , this is not a horror or teen slasher flick . . . it\\'s \\njust packaged to look that way because someone is apparently assuming that the genre is still hot with the kids . \\nit also wrapped production two years ago and has been sitting on the shelves ever since . \\nwhatever . . . skip \\nit ! \\nwhere\\'s joblo coming from ? \\na nightmare of elm street 3 ( 7/10 ) - blair witch 2 ( 7/10 ) - the crow ( 9/10 ) - the crow : salvation ( 4/10 ) - lost highway ( 10/10 ) - memento ( 10/10 ) - the others ( 9/10 ) - stir of echoes ( 8/10 ) \\n'"
      ]
     },
     "execution_count": 48,
     "metadata": {},
     "output_type": "execute_result"
    }
   ],
   "source": [
    "# Load doc into memory\n",
    "def load_doc(filename):\n",
    "    with open(filename, 'r') as file:\n",
    "        text = file.read()\n",
    "    return text\n",
    "\n",
    "# Testing the function\n",
    "text = load_doc('./data/review_polarity-20231215T050834Z-001/review_polarity/review_polarity/txt_sentoken/neg/cv000_29416.txt')\n",
    "text"
   ]
  },
  {
   "cell_type": "code",
   "execution_count": 49,
   "metadata": {},
   "outputs": [
    {
     "data": {
      "text/plain": [
       "['plot',\n",
       " 'two',\n",
       " 'teen',\n",
       " 'couples',\n",
       " 'go',\n",
       " 'church',\n",
       " 'party',\n",
       " 'drink',\n",
       " 'drive',\n",
       " 'get',\n",
       " 'accident',\n",
       " 'one',\n",
       " 'guys',\n",
       " 'dies',\n",
       " 'girlfriend',\n",
       " 'continues',\n",
       " 'see',\n",
       " 'life',\n",
       " 'nightmares',\n",
       " 'whats',\n",
       " 'deal',\n",
       " 'watch',\n",
       " 'movie',\n",
       " 'sorta',\n",
       " 'find',\n",
       " 'critique',\n",
       " 'mindfuck',\n",
       " 'movie',\n",
       " 'teen',\n",
       " 'generation',\n",
       " 'touches',\n",
       " 'cool',\n",
       " 'idea',\n",
       " 'presents',\n",
       " 'bad',\n",
       " 'package',\n",
       " 'makes',\n",
       " 'review',\n",
       " 'even',\n",
       " 'harder',\n",
       " 'one',\n",
       " 'write',\n",
       " 'since',\n",
       " 'generally',\n",
       " 'applaud',\n",
       " 'films',\n",
       " 'attempt',\n",
       " 'break',\n",
       " 'mold',\n",
       " 'mess',\n",
       " 'head',\n",
       " 'lost',\n",
       " 'highway',\n",
       " 'memento',\n",
       " 'good',\n",
       " 'bad',\n",
       " 'ways',\n",
       " 'making',\n",
       " 'types',\n",
       " 'films',\n",
       " 'folks',\n",
       " 'didnt',\n",
       " 'snag',\n",
       " 'one',\n",
       " 'correctly',\n",
       " 'seem',\n",
       " 'taken',\n",
       " 'pretty',\n",
       " 'neat',\n",
       " 'concept',\n",
       " 'executed',\n",
       " 'terribly',\n",
       " 'problems',\n",
       " 'movie',\n",
       " 'well',\n",
       " 'main',\n",
       " 'problem',\n",
       " 'simply',\n",
       " 'jumbled',\n",
       " 'starts',\n",
       " 'normal',\n",
       " 'downshifts',\n",
       " 'fantasy',\n",
       " 'world',\n",
       " 'audience',\n",
       " 'member',\n",
       " 'idea',\n",
       " 'whats',\n",
       " 'going',\n",
       " 'dreams',\n",
       " 'characters',\n",
       " 'coming',\n",
       " 'back',\n",
       " 'dead',\n",
       " 'others',\n",
       " 'look',\n",
       " 'like',\n",
       " 'dead',\n",
       " 'strange',\n",
       " 'apparitions',\n",
       " 'disappearances',\n",
       " 'looooot',\n",
       " 'chase',\n",
       " 'scenes',\n",
       " 'tons',\n",
       " 'weird',\n",
       " 'things',\n",
       " 'happen',\n",
       " 'simply',\n",
       " 'explained',\n",
       " 'personally',\n",
       " 'dont',\n",
       " 'mind',\n",
       " 'trying',\n",
       " 'unravel',\n",
       " 'film',\n",
       " 'every',\n",
       " 'give',\n",
       " 'clue',\n",
       " 'get',\n",
       " 'kind',\n",
       " 'fed',\n",
       " 'films',\n",
       " 'biggest',\n",
       " 'problem',\n",
       " 'obviously',\n",
       " 'got',\n",
       " 'big',\n",
       " 'secret',\n",
       " 'hide',\n",
       " 'seems',\n",
       " 'want',\n",
       " 'hide',\n",
       " 'completely',\n",
       " 'final',\n",
       " 'five',\n",
       " 'minutes',\n",
       " 'make',\n",
       " 'things',\n",
       " 'entertaining',\n",
       " 'thrilling',\n",
       " 'even',\n",
       " 'engaging',\n",
       " 'meantime',\n",
       " 'really',\n",
       " 'sad',\n",
       " 'part',\n",
       " 'arrow',\n",
       " 'dig',\n",
       " 'flicks',\n",
       " 'like',\n",
       " 'actually',\n",
       " 'figured',\n",
       " 'halfway',\n",
       " 'point',\n",
       " 'strangeness',\n",
       " 'start',\n",
       " 'make',\n",
       " 'little',\n",
       " 'bit',\n",
       " 'sense',\n",
       " 'still',\n",
       " 'didnt',\n",
       " 'make',\n",
       " 'film',\n",
       " 'entertaining',\n",
       " 'guess',\n",
       " 'bottom',\n",
       " 'line',\n",
       " 'movies',\n",
       " 'like',\n",
       " 'always',\n",
       " 'make',\n",
       " 'sure',\n",
       " 'audience',\n",
       " 'even',\n",
       " 'given',\n",
       " 'secret',\n",
       " 'password',\n",
       " 'enter',\n",
       " 'world',\n",
       " 'understanding',\n",
       " 'mean',\n",
       " 'showing',\n",
       " 'melissa',\n",
       " 'sagemiller',\n",
       " 'running',\n",
       " 'away',\n",
       " 'visions',\n",
       " 'minutes',\n",
       " 'throughout',\n",
       " 'movie',\n",
       " 'plain',\n",
       " 'lazy',\n",
       " 'okay',\n",
       " 'get',\n",
       " 'people',\n",
       " 'chasing',\n",
       " 'dont',\n",
       " 'know',\n",
       " 'really',\n",
       " 'need',\n",
       " 'see',\n",
       " 'giving',\n",
       " 'us',\n",
       " 'different',\n",
       " 'scenes',\n",
       " 'offering',\n",
       " 'insight',\n",
       " 'strangeness',\n",
       " 'going',\n",
       " 'movie',\n",
       " 'apparently',\n",
       " 'studio',\n",
       " 'took',\n",
       " 'film',\n",
       " 'away',\n",
       " 'director',\n",
       " 'chopped',\n",
       " 'shows',\n",
       " 'mightve',\n",
       " 'pretty',\n",
       " 'decent',\n",
       " 'teen',\n",
       " 'mindfuck',\n",
       " 'movie',\n",
       " 'somewhere',\n",
       " 'guess',\n",
       " 'suits',\n",
       " 'decided',\n",
       " 'turning',\n",
       " 'music',\n",
       " 'video',\n",
       " 'little',\n",
       " 'edge',\n",
       " 'would',\n",
       " 'make',\n",
       " 'sense',\n",
       " 'actors',\n",
       " 'pretty',\n",
       " 'good',\n",
       " 'part',\n",
       " 'although',\n",
       " 'wes',\n",
       " 'bentley',\n",
       " 'seemed',\n",
       " 'playing',\n",
       " 'exact',\n",
       " 'character',\n",
       " 'american',\n",
       " 'beauty',\n",
       " 'new',\n",
       " 'neighborhood',\n",
       " 'biggest',\n",
       " 'kudos',\n",
       " 'go',\n",
       " 'sagemiller',\n",
       " 'holds',\n",
       " 'throughout',\n",
       " 'entire',\n",
       " 'film',\n",
       " 'actually',\n",
       " 'feeling',\n",
       " 'characters',\n",
       " 'unraveling',\n",
       " 'overall',\n",
       " 'film',\n",
       " 'doesnt',\n",
       " 'stick',\n",
       " 'doesnt',\n",
       " 'entertain',\n",
       " 'confusing',\n",
       " 'rarely',\n",
       " 'excites',\n",
       " 'feels',\n",
       " 'pretty',\n",
       " 'redundant',\n",
       " 'runtime',\n",
       " 'despite',\n",
       " 'pretty',\n",
       " 'cool',\n",
       " 'ending',\n",
       " 'explanation',\n",
       " 'craziness',\n",
       " 'came',\n",
       " 'oh',\n",
       " 'way',\n",
       " 'horror',\n",
       " 'teen',\n",
       " 'slasher',\n",
       " 'flick',\n",
       " 'packaged',\n",
       " 'look',\n",
       " 'way',\n",
       " 'someone',\n",
       " 'apparently',\n",
       " 'assuming',\n",
       " 'genre',\n",
       " 'still',\n",
       " 'hot',\n",
       " 'kids',\n",
       " 'also',\n",
       " 'wrapped',\n",
       " 'production',\n",
       " 'two',\n",
       " 'years',\n",
       " 'ago',\n",
       " 'sitting',\n",
       " 'shelves',\n",
       " 'ever',\n",
       " 'since',\n",
       " 'whatever',\n",
       " 'skip',\n",
       " 'wheres',\n",
       " 'joblo',\n",
       " 'coming',\n",
       " 'nightmare',\n",
       " 'elm',\n",
       " 'street',\n",
       " 'blair',\n",
       " 'witch',\n",
       " 'crow',\n",
       " 'crow',\n",
       " 'salvation',\n",
       " 'lost',\n",
       " 'highway',\n",
       " 'memento',\n",
       " 'others',\n",
       " 'stir',\n",
       " 'echoes']"
      ]
     },
     "execution_count": 49,
     "metadata": {},
     "output_type": "execute_result"
    }
   ],
   "source": [
    "# turn a doc into clean tokens\n",
    "def clean_doc(doc):\n",
    "    tokens = doc.split()\n",
    "    re_punc = re.compile('[%s]' % re.escape(string.punctuation))\n",
    "    tokens = [re_punc.sub('', w) for w in tokens]\n",
    "    tokens = [word for word in tokens if word.isalpha()]\n",
    "    stop_words = set(stopwords.words('english'))\n",
    "    tokens = [w for w in tokens if w not in stop_words]\n",
    "    tokens = [word for word in tokens if len(word) > 1]\n",
    "    return tokens\n",
    "\n",
    "\n",
    "clean = clean_doc(text)\n",
    "clean"
   ]
  },
  {
   "cell_type": "code",
   "execution_count": 50,
   "metadata": {},
   "outputs": [
    {
     "name": "stdout",
     "output_type": "stream",
     "text": [
      "plot two teen couples go church party drink drive get accident one guys dies girlfriend continues see life nightmares whats deal watch movie sorta find critique mindfuck movie teen generation touches cool idea presents bad package makes review even harder one write since generally applaud films attempt break mold mess head lost highway memento good bad ways making types films folks didnt snag one correctly seem taken pretty neat concept executed terribly problems movie well main problem simply jumbled starts normal downshifts fantasy world audience member idea whats going dreams characters coming back dead others look like dead strange apparitions disappearances chase scenes tons weird things happen simply explained personally dont mind trying unravel film every give clue get kind fed films biggest problem obviously got big secret hide seems want hide completely final five minutes make things entertaining thrilling even engaging meantime really sad part arrow dig flicks like actually figured halfway point strangeness start make little bit sense still didnt make film entertaining guess bottom line movies like always make sure audience even given secret password enter world understanding mean showing melissa sagemiller running away visions minutes throughout movie plain lazy okay get people chasing dont know really need see giving us different scenes offering insight strangeness going movie apparently studio took film away director chopped shows mightve pretty decent teen mindfuck movie somewhere guess suits decided turning music video little edge would make sense actors pretty good part although wes bentley seemed playing exact character american beauty new neighborhood biggest kudos go sagemiller holds throughout entire film actually feeling characters unraveling overall film doesnt stick doesnt entertain confusing rarely excites feels pretty redundant runtime despite pretty cool ending explanation craziness came oh way horror teen slasher flick packaged look way someone apparently assuming genre still hot kids also wrapped production two years ago sitting shelves ever since whatever skip wheres joblo coming nightmare elm street blair witch crow crow salvation lost highway memento others stir echoes\n"
     ]
    }
   ],
   "source": [
    "# load doc, clean and return line of tokens\n",
    "def doc_to_line(filename, vocab):\n",
    "    # Load the doc\n",
    "    doc = load_doc(filename)\n",
    "    # Clean the doc\n",
    "    tokens = clean_doc(doc)\n",
    "    # filter by vocab\n",
    "    tokens = [w for w in tokens if w in vocab]\n",
    "    return \" \".join(tokens)\n",
    "\n",
    "\n",
    "with open('./data/vocab.txt') as file:\n",
    "    vocab = file.read().split()\n",
    "\n",
    "print(doc_to_line('./data/review_polarity-20231215T050834Z-001/review_polarity/review_polarity/txt_sentoken/neg/cv000_29416.txt',  vocab=vocab))"
   ]
  },
  {
   "cell_type": "code",
   "execution_count": 51,
   "metadata": {},
   "outputs": [],
   "source": [
    "def process_train(directory, vocab):\n",
    "    documents = list()\n",
    "    for filename in listdir(directory):\n",
    "        if not filename.startswith('cv9'):\n",
    "            path = directory + '/' + filename\n",
    "            doc = load_doc(path)\n",
    "            tokens = clean_doc(doc, vocab)\n",
    "            documents.append(tokens)\n",
    "    return documents\n",
    "\n",
    "\n",
    "def process_test(directory, vocab):\n",
    "    documents = list()\n",
    "    for filename in listdir(directory):\n",
    "        if filename.startswith('cv9'):\n",
    "            path = directory + '/' + filename\n",
    "            doc = load_doc(path)\n",
    "            tokens = clean_doc(doc, vocab)\n",
    "            documents.append(tokens)\n",
    "    return documents"
   ]
  },
  {
   "cell_type": "code",
   "execution_count": 52,
   "metadata": {},
   "outputs": [],
   "source": [
    "# Load all docs in directory\n",
    "def process_docs(directory, vocab, is_train):\n",
    "    documents = list()\n",
    "    for filename in listdir(directory):\n",
    "        if is_train and filename.startswith('cv9'):\n",
    "            continue\n",
    "        if not is_train and not filename.startswith('cv9'):\n",
    "            continue\n",
    "        path = directory + '/' + filename\n",
    "        doc = load_doc(path)\n",
    "        tokens = clean_doc(doc)\n",
    "        documents.append(tokens)\n",
    "    return documents"
   ]
  },
  {
   "cell_type": "code",
   "execution_count": 53,
   "metadata": {},
   "outputs": [
    {
     "data": {
      "text/plain": [
       "900"
      ]
     },
     "execution_count": 53,
     "metadata": {},
     "output_type": "execute_result"
    }
   ],
   "source": [
    "lines = process_docs(directory='./data/review_polarity-20231215T050834Z-001/review_polarity/txt_sentoken/pos',\n",
    "                     vocab=vocab,\n",
    "                     is_train=True)\n",
    "len(lines)"
   ]
  },
  {
   "cell_type": "code",
   "execution_count": 54,
   "metadata": {},
   "outputs": [],
   "source": [
    "# Load and clean a dataset\n",
    "def load_clean_dataset(vocab, is_train):\n",
    "    # Load documents\n",
    "    neg = process_docs(directory='./data/review_polarity-20231215T050834Z-001/review_polarity/txt_sentoken/neg',\n",
    "                       vocab=vocab,\n",
    "                       is_train=is_train)\n",
    "    pos = process_docs(directory='./data/review_polarity-20231215T050834Z-001/review_polarity/txt_sentoken/pos',\n",
    "                       vocab=vocab,\n",
    "                       is_train=is_train)\n",
    "    docs = pos + neg\n",
    "\n",
    "    # Prepare Labels\n",
    "    labels = [0 for _ in range(len(neg))] + [1 for _ in range(len(pos))]\n",
    "    return docs, labels\n",
    "\n",
    "\n",
    "train, train_labels = load_clean_dataset(vocab=vocab, is_train=True)\n",
    "test, test_labels = load_clean_dataset(vocab=vocab, is_train=False)"
   ]
  },
  {
   "cell_type": "code",
   "execution_count": 55,
   "metadata": {},
   "outputs": [
    {
     "data": {
      "text/plain": [
       "(1810, 1810)"
      ]
     },
     "execution_count": 55,
     "metadata": {},
     "output_type": "execute_result"
    }
   ],
   "source": [
    "len(train), len(train_labels)"
   ]
  },
  {
   "cell_type": "code",
   "execution_count": 56,
   "metadata": {},
   "outputs": [
    {
     "data": {
      "text/plain": [
       "(200, 200)"
      ]
     },
     "execution_count": 56,
     "metadata": {},
     "output_type": "execute_result"
    }
   ],
   "source": [
    "len(test), len(test_labels)"
   ]
  },
  {
   "cell_type": "markdown",
   "metadata": {},
   "source": [
    "## Build the Model"
   ]
  },
  {
   "cell_type": "code",
   "execution_count": 57,
   "metadata": {},
   "outputs": [],
   "source": [
    "import keras\n",
    "from keras.models import Sequential\n",
    "from keras.layers import Dense"
   ]
  },
  {
   "cell_type": "code",
   "execution_count": 58,
   "metadata": {},
   "outputs": [],
   "source": [
    "# Define the model\n",
    "def define_model(n_words):\n",
    "    keras.backend.clear_session()\n",
    "    # Define network\n",
    "    model = Sequential()\n",
    "    model.add(Dense(50, input_shape=(n_words,), activation='relu'))\n",
    "    model.add(Dense(1, activation='sigmoid'))\n",
    "\n",
    "    # Compile Network\n",
    "    model.compile(loss='binary_crossentropy', optimizer='adam', metrics=['accuracy'])\n",
    "\n",
    "    # Summzarize defined model\n",
    "    model.summary()\n",
    "    plot_model(model, to_file='model.png', show_shapes=True)\n",
    "    return model"
   ]
  },
  {
   "cell_type": "code",
   "execution_count": 59,
   "metadata": {},
   "outputs": [
    {
     "name": "stdout",
     "output_type": "stream",
     "text": [
      "Model: \"sequential\"\n",
      "_________________________________________________________________\n",
      " Layer (type)                Output Shape              Param #   \n",
      "=================================================================\n",
      " dense (Dense)               (None, 50)                1288400   \n",
      "                                                                 \n",
      " dense_1 (Dense)             (None, 1)                 51        \n",
      "                                                                 \n",
      "=================================================================\n",
      "Total params: 1288451 (4.92 MB)\n",
      "Trainable params: 1288451 (4.92 MB)\n",
      "Non-trainable params: 0 (0.00 Byte)\n",
      "_________________________________________________________________\n"
     ]
    },
    {
     "data": {
      "text/plain": [
       "<keras.src.engine.sequential.Sequential at 0x7f039e32d210>"
      ]
     },
     "execution_count": 59,
     "metadata": {},
     "output_type": "execute_result"
    }
   ],
   "source": [
    "define_model(n_words=len(vocab))"
   ]
  },
  {
   "cell_type": "code",
   "execution_count": 60,
   "metadata": {},
   "outputs": [],
   "source": [
    "# Fit a tokenizer\n",
    "def create_tokenizer(lines):\n",
    "    tokenizer = Tokenizer()\n",
    "    tokenizer.fit_on_texts(lines)\n",
    "    return tokenizer\n",
    "\n",
    "# Create the tokenizer\n",
    "tokenizer = create_tokenizer(train)"
   ]
  },
  {
   "cell_type": "code",
   "execution_count": 61,
   "metadata": {},
   "outputs": [
    {
     "data": {
      "text/plain": [
       "(1810, 44277)"
      ]
     },
     "execution_count": 61,
     "metadata": {},
     "output_type": "execute_result"
    }
   ],
   "source": [
    "# Encode data\n",
    "X_train = tokenizer.texts_to_matrix(train, mode='binary')\n",
    "X_train.shape"
   ]
  },
  {
   "cell_type": "code",
   "execution_count": 62,
   "metadata": {},
   "outputs": [
    {
     "name": "stdout",
     "output_type": "stream",
     "text": [
      "Model: \"sequential\"\n",
      "_________________________________________________________________\n",
      " Layer (type)                Output Shape              Param #   \n",
      "=================================================================\n",
      " dense (Dense)               (None, 50)                2213900   \n",
      "                                                                 \n",
      " dense_1 (Dense)             (None, 1)                 51        \n",
      "                                                                 \n",
      "=================================================================\n",
      "Total params: 2213951 (8.45 MB)\n",
      "Trainable params: 2213951 (8.45 MB)\n",
      "Non-trainable params: 0 (0.00 Byte)\n",
      "_________________________________________________________________\n"
     ]
    }
   ],
   "source": [
    "# define network\n",
    "n_words = X_train.shape[1]\n",
    "model = define_model(n_words)"
   ]
  },
  {
   "cell_type": "code",
   "execution_count": 63,
   "metadata": {},
   "outputs": [
    {
     "name": "stdout",
     "output_type": "stream",
     "text": [
      "Epoch 1/10\n",
      "181/181 [==============================] - 3s 14ms/step - loss: 0.4529 - accuracy: 0.7724\n",
      "Epoch 2/10\n",
      "181/181 [==============================] - 3s 14ms/step - loss: 0.0308 - accuracy: 0.9978\n",
      "Epoch 3/10\n",
      "181/181 [==============================] - 3s 14ms/step - loss: 0.0051 - accuracy: 1.0000\n",
      "Epoch 4/10\n",
      "181/181 [==============================] - 3s 14ms/step - loss: 0.0018 - accuracy: 1.0000\n",
      "Epoch 5/10\n",
      "181/181 [==============================] - 3s 14ms/step - loss: 7.5873e-04 - accuracy: 1.0000\n",
      "Epoch 6/10\n",
      "181/181 [==============================] - 3s 14ms/step - loss: 4.1330e-04 - accuracy: 1.0000\n",
      "Epoch 7/10\n",
      "181/181 [==============================] - 3s 14ms/step - loss: 2.5930e-04 - accuracy: 1.0000\n",
      "Epoch 8/10\n",
      "181/181 [==============================] - 3s 14ms/step - loss: 1.7849e-04 - accuracy: 1.0000\n",
      "Epoch 9/10\n",
      "181/181 [==============================] - 3s 14ms/step - loss: 1.3067e-04 - accuracy: 1.0000\n",
      "Epoch 10/10\n",
      "181/181 [==============================] - 3s 14ms/step - loss: 9.9294e-05 - accuracy: 1.0000\n"
     ]
    },
    {
     "data": {
      "text/plain": [
       "<keras.src.callbacks.History at 0x7f03980b4a10>"
      ]
     },
     "execution_count": 63,
     "metadata": {},
     "output_type": "execute_result"
    }
   ],
   "source": [
    "model.fit(X_train, np.array(train_labels), epochs=10, batch_size=10)"
   ]
  },
  {
   "cell_type": "code",
   "execution_count": 64,
   "metadata": {},
   "outputs": [
    {
     "data": {
      "image/png": "[encoded data removed]",
      "text/plain": [
       "<IPython.core.display.Image object>"
      ]
     },
     "execution_count": 64,
     "metadata": {},
     "output_type": "execute_result"
    }
   ],
   "source": [
    "plot_model(model, show_dtype=True, show_layer_activations=True, show_shapes=True, show_layer_names=True)"
   ]
  },
  {
   "cell_type": "markdown",
   "metadata": {},
   "source": [
    "## Inferencing on Test Data"
   ]
  },
  {
   "cell_type": "code",
   "execution_count": 65,
   "metadata": {},
   "outputs": [
    {
     "name": "stdout",
     "output_type": "stream",
     "text": [
      "200/200 [==============================] - 1s 3ms/step - loss: 0.2551 - accuracy: 0.9050\n",
      "Test Loss: 0.2551477551460266\n",
      "Test Accuracy: 0.9049999713897705\n"
     ]
    }
   ],
   "source": [
    "X_test = tokenizer.texts_to_matrix(test, mode='binary')\n",
    "\n",
    "score = model.evaluate(X_test, np.array(test_labels), batch_size=1, verbose=1)\n",
    "print(f\"Test Loss: {score[0]}\")\n",
    "print(f\"Test Accuracy: {score[1]}\")"
   ]
  },
  {
   "cell_type": "markdown",
   "metadata": {},
   "source": [
    "## Predictions on New Data"
   ]
  },
  {
   "cell_type": "code",
   "execution_count": 66,
   "metadata": {},
   "outputs": [],
   "source": [
    "text1 = 'Best movie ever! It was great, I will definitely recommend it.'\n",
    "text2 = 'This is a bad movie.'"
   ]
  },
  {
   "cell_type": "code",
   "execution_count": 67,
   "metadata": {},
   "outputs": [],
   "source": [
    "def predict_sentiment(review):\n",
    "    tokens = clean_doc(review)\n",
    "    line = ' '.join(tokens)\n",
    "    encoded = tokenizer.texts_to_matrix([line], mode='binary')\n",
    "    yhat = model.predict(encoded, verbose=0)\n",
    "    percent_pos = yhat[0, 0]\n",
    "    if round(percent_pos) == 0:\n",
    "        return (1-percent_pos), 'NEGATIVE'\n",
    "    return percent_pos, 'POSITIVE'"
   ]
  },
  {
   "cell_type": "code",
   "execution_count": 68,
   "metadata": {},
   "outputs": [
    {
     "data": {
      "text/plain": [
       "(0.6859170496463776, 'NEGATIVE')"
      ]
     },
     "execution_count": 68,
     "metadata": {},
     "output_type": "execute_result"
    }
   ],
   "source": [
    "text1_review = predict_sentiment(text1)\n",
    "text1_review"
   ]
  },
  {
   "cell_type": "code",
   "execution_count": 69,
   "metadata": {},
   "outputs": [
    {
     "data": {
      "text/plain": [
       "(0.6624303, 'POSITIVE')"
      ]
     },
     "execution_count": 69,
     "metadata": {},
     "output_type": "execute_result"
    }
   ],
   "source": [
    "text2_review = predict_sentiment(text2)\n",
    "text2_review"
   ]
  },
  {
   "cell_type": "code",
   "execution_count": 70,
   "metadata": {},
   "outputs": [
    {
     "data": {
      "text/plain": [
       "array([[0., 0., 0., ..., 0., 0., 0.],\n",
       "       [0., 0., 0., ..., 0., 0., 0.]])"
      ]
     },
     "execution_count": 70,
     "metadata": {},
     "output_type": "execute_result"
    }
   ],
   "source": [
    "text = [text1, text2]\n",
    "text = tokenizer.texts_to_matrix(text)\n",
    "text"
   ]
  },
  {
   "cell_type": "code",
   "execution_count": 71,
   "metadata": {},
   "outputs": [
    {
     "name": "stdout",
     "output_type": "stream",
     "text": [
      "1/1 [==============================] - 0s 23ms/step\n"
     ]
    },
    {
     "data": {
      "text/plain": [
       "array([0, 0])"
      ]
     },
     "execution_count": 71,
     "metadata": {},
     "output_type": "execute_result"
    }
   ],
   "source": [
    "pred = model.predict(text)\n",
    "pred = np.argmax(pred, axis=1)\n",
    "pred"
   ]
  }
 ],
 "metadata": {
  "kernelspec": {
   "display_name": "dnn",
   "language": "python",
   "name": "python3"
  },
  "language_info": {
   "codemirror_mode": {
    "name": "ipython",
    "version": 3
   },
   "file_extension": ".py",
   "mimetype": "text/x-python",
   "name": "python",
   "nbconvert_exporter": "python",
   "pygments_lexer": "ipython3",
   "version": "3.11.5"
  },
  "orig_nbformat": 4
 },
 "nbformat": 4,
 "nbformat_minor": 2
}
